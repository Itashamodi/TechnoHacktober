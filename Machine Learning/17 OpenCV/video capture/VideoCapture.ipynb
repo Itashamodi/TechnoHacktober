{
 "cells": [
  {
   "cell_type": "code",
   "execution_count": 1,
   "metadata": {},
   "outputs": [],
   "source": [
    "# live video capture from camera using open cv\n",
    "import cv2\n",
    "cameraCapture=cv2.VideoCapture(0)\n",
    "fps = 30\n",
    "size = int(cameraCapture.get(cv2.CAP_PROP_FRAME_WIDTH)),int(cameraCapture.get(cv2.CAP_PROP_FRAME_HEIGHT))\n",
    "videoWriter=cv2.VideoWriter('myFirstVideo.avi',cv2.VideoWriter_fourcc('I','4','2','0'),fps,size)\n",
    "\n",
    "numFramesRemaining = 10*fps-1\n",
    "\n",
    "success,frame =cameraCapture.read()\n",
    "\n",
    "while success and numFramesRemaining>0:\n",
    "    videoWriter.write(frame)\n",
    "    success,frame =cameraCapture.read()\n",
    "    numFramesRemaining -=1"
   ]
  },
  {
   "cell_type": "code",
   "execution_count": null,
   "metadata": {},
   "outputs": [],
   "source": []
  }
 ],
 "metadata": {
  "kernelspec": {
   "display_name": "Python 3",
   "language": "python",
   "name": "python3"
  },
  "language_info": {
   "codemirror_mode": {
    "name": "ipython",
    "version": 3
   },
   "file_extension": ".py",
   "mimetype": "text/x-python",
   "name": "python",
   "nbconvert_exporter": "python",
   "pygments_lexer": "ipython3",
   "version": "3.8.5"
  }
 },
 "nbformat": 4,
 "nbformat_minor": 4
}
