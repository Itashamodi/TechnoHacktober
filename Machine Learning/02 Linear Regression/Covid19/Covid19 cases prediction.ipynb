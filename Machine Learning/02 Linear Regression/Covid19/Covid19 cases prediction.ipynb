Code:
import pandas as pd
import numpy as np
import seaborn as sns
import matplotlib.pyplot as plt
from google.colab import files
uploaded = files.upload()
//dataseturl: https://github.com/Ayushijain09/Regression-on-COVID-dataset/blob/master/COVID-19_Daily_Testing.csv
df=pd.read_csv("COVID-19_Daily_Testing.csv")
df.head(5)
df.info()
df=df.iloc[:90,2:4]
df
df.info()
df['Tests']=df['Tests'].str.replace(',','')
df['Cases']=df['Cases'].str.replace(',','')
df['Tests']=pd.to_numeric(df['Tests'])
df['Cases']=pd.to_numeric(df['Cases'])
df.info()

//Method:1
x=df.Tests
y=df.Cases
x.head()
y.head()
from sklearn.linear_model import LinearRegression
model=LinearRegression()
X=x.values.reshape(-1,1)
model.fit(X,targets)
predict=model.predict(X)
predict
from sklearn import metrics
import math

print('MAE =', (metrics.mean_absolute_error(y,predict)))
print('MSE =', (metrics.mean_squared_error(y,predict)))
print('RMSE =', math.sqrt(metrics.mean_squared_error(y,predict)))
print('RMSLE =', math.sqrt(metrics.mean_squared_log_error(y,predict)))
print('R square error =', (metrics.r2_score(y,predict)))
plt.figure(0)
plt.title('Linear Regression Line')
plt.xlabel('Tests')
plt.ylabel('Cases')
plt.scatter(x,targets, color='green')
plt.plot(x,predict,color='black',linewidth=1)


//Method:2 Using Train Test Split
from sklearn.model_selection import train_test_split
X= df["Tests"].values.reshape(-1,1)
Y= df["Cases"].values.reshape(-1,1)

X_train, X_test, Y_train, Y_test = train_test_split(X,Y,test_size=1/3,random_state=0)

from sklearn.linear_model import LinearRegression

regressor = LinearRegression()

model=regressor.fit(X_train, Y_train)

r_sq = model.score(X_train, Y_train)
print("\n Coefficient of determination: ",r_sq)

print("\n Intercept: ",model.intercept_)

print("\n Slope: ",model.coef_)
Y_pred = model.predict(X_test)

plt.scatter(X_train, Y_train, color="green")
plt.plot (X_train, regressor.predict(X_train), color="black") 
plt.title ("Linear Regression plot - Cases vs Tests (Training set)") 
plt.xlabel("Tests") 
plt.ylabel ("Cases") 
plt.show ()


plt.scatter(X_test, Y_test, color="green")
plt.plot (X_test, regressor.predict(X_test), color="black") 
plt.title ("Linear Regression plot - Cases vs Tests (Test set)") 
plt.xlabel("Tests") 

plt.ylabel ("Cases") 
plt.show ()

from sklearn import metrics
import math

print('MAE =', (metrics.mean_absolute_error(Y_test,Y_pred)))
print('MSE =', (metrics.mean_squared_error(Y_test,Y_pred)))
print('RMSE =', math.sqrt(metrics.mean_squared_error(Y_test,Y_pred)))
print('RMSLE =', math.sqrt(metrics.mean_squared_log_error(Y_test,Y_pred)))
print('R square error =', (metrics.r2_score(Y_test,Y_pred)))
